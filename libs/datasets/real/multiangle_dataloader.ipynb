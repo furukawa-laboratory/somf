{
 "cells": [
  {
   "cell_type": "code",
   "execution_count": 2,
   "metadata": {},
   "outputs": [
    {
     "name": "stderr",
     "output_type": "stream",
     "text": [
      "100%|██████████| 1/1 [00:00<00:00, 1432.97it/s]\n"
     ]
    }
   ],
   "source": [
    "import os\n",
    "from tqdm import tqdm\n",
    "import urllib.request\n",
    "url_base = \"http://robotics.csie.ncku.edu.tw/Databases/OurDatabase/\"\n",
    "dataset_dir = \".\"    #データを保存する場所\n",
    "key_file = {   # ダウンロードしたい人数分を指定する\n",
    "    \"01_10\":\"Subject01_10.zip\",\n",
    "#     \"11_20\":\"Subject11_20.zip\",\n",
    "#     \"21_30\":\"Subject21_30.zip\",\n",
    "#     \"31_40\":\"Subject31_40.zip\",\n",
    "#     \"41_50\":\"Subject41_50.zip\",\n",
    "#     \"51_60\":\"Subject51_60.zip\",\n",
    "#     \"61_70\":\"Subject61_70.zip\",\n",
    "#     \"71_80\":\"Subject71_80.zip\",\n",
    "#     \"81_90\":\"Subject81_90.zip\",\n",
    "}\n",
    "\n",
    "# データセットのダウンロード\n",
    "bar = tqdm(key_file.values())\n",
    "for v in bar:\n",
    "    file_path = dataset_dir + '/' + v\n",
    "    if not os.path.exists(file_path):   # 既にフォルダが存在していればスキップ\n",
    "        urllib.request.urlretrieve(url_base + v, file_path)\n",
    "\n",
    "        "
   ]
  }
 ],
 "metadata": {
  "kernelspec": {
   "display_name": "Python 3",
   "language": "python",
   "name": "python3"
  },
  "language_info": {
   "codemirror_mode": {
    "name": "ipython",
    "version": 3
   },
   "file_extension": ".py",
   "mimetype": "text/x-python",
   "name": "python",
   "nbconvert_exporter": "python",
   "pygments_lexer": "ipython3",
   "version": "3.7.2"
  }
 },
 "nbformat": 4,
 "nbformat_minor": 2
}
